{
 "cells": [
  {
   "cell_type": "code",
   "execution_count": null,
   "metadata": {
    "vscode": {
     "languageId": "plaintext"
    }
   },
   "outputs": [],
   "source": [
    "import pandas as pd\n",
    "\n",
    "# Load the network traffic data\n",
    "df = pd.read_csv('../data/network_data.csv')  # adjust path as needed\n",
    "\n",
    "# Display the first few rows to understand the structure\n",
    "print(\"First few rows of the data:\")\n",
    "print(df.head())\n",
    "\n",
    "# Get basic information about the dataset\n",
    "print(\"\\nDataframe Info:\")\n",
    "print(df.info())\n",
    "\n",
    "# Check for missing values in each column\n",
    "print(\"\\nMissing Values in Each Column:\")\n",
    "print(df.isnull().sum())\n",
    "\n",
    "# Generate basic statistics for numerical columns\n",
    "print(\"\\nBasic Statistical Summary:\")\n",
    "print(df.describe())\n"
   ]
  }
 ],
 "metadata": {
  "language_info": {
   "name": "python"
  }
 },
 "nbformat": 4,
 "nbformat_minor": 2
}
