{
 "cells": [
  {
   "cell_type": "code",
   "execution_count": null,
   "metadata": {
    "vscode": {
     "languageId": "plaintext"
    }
   },
   "outputs": [],
   "source": [
    "\"\"\"\n",
    "exploratory_analysis.py\n",
    "\n",
    "This script performs a minimal data exploration on a CSV file. It:\n",
    "1. Loads the data from a specified path.\n",
    "2. Prints a preview of the DataFrame (head).\n",
    "3. Shows info about data types, memory usage, etc.\n",
    "4. Checks for missing values and duplicates.\n",
    "5. Generates basic statistical summaries for numerical columns.\n",
    "\n",
    "Usage:\n",
    "------\n",
    "1. Adjust the CSV path in config.py if needed (default is '../data/network_data.csv').\n",
    "2. Run:\n",
    "   python exploratory_analysis.py\n",
    "3. Ensure you have pandas installed:\n",
    "   pip install pandas\n",
    "\"\"\"\n",
    "\n",
    "import pandas as pd\n",
    "\n",
    "# Minimal change: import DATA_PATH from config\n",
    "# If you have an __init__.py in the same folder and plan to run with -m, use:\n",
    "# from .config import DATA_PATH\n",
    "# Otherwise, if you run directly, do:\n",
    "from config import DATA_PATH\n",
    "\n",
    "def main():\n",
    "    # 1. Load the network traffic data from config.py\n",
    "    df = pd.read_csv(DATA_PATH)\n",
    "\n",
    "    # 2. Display the first few rows to understand the structure\n",
    "    print(\"=== First 5 Rows of the Data ===\")\n",
    "    print(df.head())\n",
    "\n",
    "    # 3. Get basic information about the dataset\n",
    "    print(\"\\n=== DataFrame Info ===\")\n",
    "    print(df.info())\n",
    "\n",
    "    # 4. Check for missing values in each column\n",
    "    print(\"\\n=== Missing Values in Each Column ===\")\n",
    "    print(df.isnull().sum())\n",
    "\n",
    "    # 5. Check for duplicate rows\n",
    "    duplicates = df.duplicated().sum()\n",
    "    print(f\"\\n=== Number of Duplicate Rows: {duplicates} ===\")\n",
    "\n",
    "    # 6. Generate basic statistics for numerical columns\n",
    "    print(\"\\n=== Basic Statistical Summary ===\")\n",
    "    print(df.describe())\n",
    "\n",
    "if __name__ == \"__main__\":\n",
    "    main()\n"
   ]
  }
 ],
 "metadata": {
  "language_info": {
   "name": "python"
  }
 },
 "nbformat": 4,
 "nbformat_minor": 2
}
